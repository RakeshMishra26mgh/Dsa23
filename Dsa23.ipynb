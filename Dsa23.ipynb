{
  "nbformat": 4,
  "nbformat_minor": 0,
  "metadata": {
    "colab": {
      "provenance": [],
      "authorship_tag": "ABX9TyOLJs7zFcM0HRP6GmbOEGwn",
      "include_colab_link": true
    },
    "kernelspec": {
      "name": "python3",
      "display_name": "Python 3"
    },
    "language_info": {
      "name": "python"
    }
  },
  "cells": [
    {
      "cell_type": "markdown",
      "metadata": {
        "id": "view-in-github",
        "colab_type": "text"
      },
      "source": [
        "<a href=\"https://colab.research.google.com/github/RakeshMishra26mgh/Dsa23/blob/main/Dsa23.ipynb\" target=\"_parent\"><img src=\"https://colab.research.google.com/assets/colab-badge.svg\" alt=\"Open In Colab\"/></a>"
      ]
    },
    {
      "cell_type": "markdown",
      "source": [
        "Answer 1:-"
      ],
      "metadata": {
        "id": "ZJCRFhNHkmiD"
      }
    },
    {
      "cell_type": "code",
      "source": [
        "def find_depth(preorder):\n",
        "  stack = []\n",
        "  max_depth = 0\n",
        "  stack.append(0)\n",
        "  for char in preorder:\n",
        "    if stack:\n",
        "      curr_depth = stack.pop()\n",
        "    else:\n",
        "      pass\n",
        "    max_depth = max(max_depth, curr_depth)\n",
        "    if char == 'n':\n",
        "      stack.append(curr_depth + 1)\n",
        "      stack.append(curr_depth + 1)\n",
        "\n",
        "  if not stack:\n",
        "    return max_depth\n",
        "  else:\n",
        "    print(\"Invalid preorder string\")\n",
        "    return -1\n",
        "\n",
        "preorder = input(\"Enter the preorder string: \")\n",
        "print(\"The depth of the binary tree is:\", find_depth(preorder))\n"
      ],
      "metadata": {
        "id": "OinjSAXpqm8E"
      },
      "execution_count": null,
      "outputs": []
    },
    {
      "cell_type": "markdown",
      "source": [
        "Answer 2:-"
      ],
      "metadata": {
        "id": "Dps8l-Pyq8sB"
      }
    },
    {
      "cell_type": "code",
      "source": [
        "def print_left_view(root):\n",
        "  queue = []\n",
        "  queue.append(root)\n",
        "  queue.append(None)\n",
        "  curr_level = 0\n",
        "  next_level = 0\n",
        "  while queue:\n",
        "    temp = queue.pop(0)\n",
        "    if temp:\n",
        "      if curr_level == next_level:\n",
        "        print(temp.data, end=\", \")\n",
        "        next_level += 1\n",
        "      if temp.left:\n",
        "        queue.append(temp.left)\n",
        "      if temp.right:\n",
        "        queue.append(temp.right)\n",
        "    else:\n",
        "      if queue:\n",
        "        queue.append(None)\n",
        "      curr_level += 1\n",
        "\n",
        "def construct_tree():\n",
        "  queue = []\n",
        "  root = None\n",
        "  value = input(\"Enter the value of the root node (use None for empty node): \")\n",
        "  if value != \"None\":\n",
        "    value = int(value)\n",
        "    root = Node(value)\n",
        "    queue.append(root)\n",
        "  while queue:\n",
        "    parent = queue.pop(0)\n",
        "    value = input(f\"Enter the value of the left child of {parent.data} (use None for empty node): \")\n",
        "    if value != \"None\":\n",
        "      value = int(value)\n",
        "      child = Node(value)\n",
        "      parent.left = child\n",
        "      queue.append(child)\n",
        "    value = input(f\"Enter the value of the right child of {parent.data} (use None for empty node): \")\n",
        "    if value != \"None\":\n",
        "      value = int(value)\n",
        "      child = Node(value)\n",
        "      parent.right = child\n",
        "      queue.append(child)\n",
        "  return root\n",
        "\n",
        "root = construct_tree()\n",
        "print_left_view(root)\n",
        "print()\n"
      ],
      "metadata": {
        "id": "wxdOGbDful2r"
      },
      "execution_count": null,
      "outputs": []
    },
    {
      "cell_type": "markdown",
      "source": [
        "Answer 3:-"
      ],
      "metadata": {
        "id": "Z0-rk9XgvuBm"
      }
    },
    {
      "cell_type": "code",
      "source": [
        "def print_right_view(root):\n",
        "  queue = []\n",
        "  queue.append(root)\n",
        "  queue.append(None)\n",
        "  curr_level = 0\n",
        "  next_level = 0\n",
        "  while queue:\n",
        "    temp = queue.pop(0)\n",
        "    if temp:\n",
        "      if queue[0] == None:\n",
        "        print(temp.data, end=\", \")\n",
        "        next_level += 1\n",
        "      if temp.left:\n",
        "        queue.append(temp.left)\n",
        "      if temp.right:\n",
        "        queue.append(temp.right)\n",
        "    else:\n",
        "      if queue:\n",
        "        queue.append(None)\n",
        "      curr_level = 0\n",
        "\n",
        "def construct_tree():\n",
        "  queue = []\n",
        "  root = None\n",
        "  value = input(\"Enter the value of the root node (use None for empty node): \")\n",
        "  if value != \"None\":\n",
        "    value = int(value)\n",
        "    root = Node(value)\n",
        "    queue.append(root)\n",
        "  while queue:\n",
        "    parent = queue.pop(0)\n",
        "    value = input(f\"Enter the value of the left child of {parent.data} (use None for empty node): \")\n",
        "    if value != \"None\":\n",
        "      value = int(value)\n",
        "      child = Node(value)\n",
        "      parent.left = child\n",
        "      queue.append(child)\n",
        "    value = input(f\"Enter the value of the right child of {parent.data} (use None for empty node): \")\n",
        "    if value != \"None\":\n",
        "      value = int(value)\n",
        "      child = Node(value)\n",
        "      parent.right = child\n",
        "      queue.append(child)\n",
        "  return root\n",
        "\n",
        "root = construct_tree()\n",
        "print_right_view(root)\n",
        "print()\n"
      ],
      "metadata": {
        "id": "JCg3s1N9z3tT"
      },
      "execution_count": null,
      "outputs": []
    },
    {
      "cell_type": "markdown",
      "source": [
        "Answer 4:-"
      ],
      "metadata": {
        "id": "pAxCJJHz0YDI"
      }
    },
    {
      "cell_type": "code",
      "source": [
        "class Node:\n",
        "  def __init__(self, data):\n",
        "    self.data = data\n",
        "    self.left = None\n",
        "    self.right = None\n",
        "\n",
        "def print_bottom_view(root):\n",
        "  queue = []\n",
        "  queue.append((root, 0, root.data))\n",
        "  dic = {}\n",
        "  lst = []\n",
        "  while queue:\n",
        "    temp = queue.pop(0)\n",
        "    node, hd, data = temp\n",
        "    if hd not in dic:\n",
        "      dic[hd] = data\n",
        "      lst.append(hd)\n",
        "    else:\n",
        "      dic[hd] = data\n",
        "    if node.left:\n",
        "      queue.append((node.left, hd - 1, node.left.data))\n",
        "    if node.right:\n",
        "      queue.append((node.right, hd + 1, node.right.data))\n",
        "  lst.sort()\n",
        "  for hd in lst:\n",
        "    print(dic[hd], end=\" \")\n",
        "  print()\n",
        "\n",
        "def construct_tree():\n",
        "  queue = []\n",
        "  root = None\n",
        "  value = input(\"Enter the value of the root node (use None for empty node): \")\n",
        "  if value != \"None\":\n",
        "    value = int(value)\n",
        "    root = Node(value)\n",
        "    queue.append(root)\n",
        "  while queue:\n",
        "    parent = queue.pop(0)\n",
        "    value = input(f\"Enter the value of the left child of {parent.data} (use None for empty node): \")\n",
        "    if value != \"None\":\n",
        "      value = int(value)\n",
        "      child = Node(value)\n",
        "      parent.left = child\n",
        "      queue.append(child)\n",
        "    value = input(f\"Enter the value of the right child of {parent.data} (use None for empty node): \")\n",
        "    if value != \"None\":\n",
        "      value = int(value)\n",
        "      child = Node(value)\n",
        "      parent.right = child\n",
        "      queue.append(child)\n",
        "  return root\n",
        "\n",
        "root = construct_tree()\n",
        "print_bottom_view(root)\n"
      ],
      "metadata": {
        "id": "Lhxa2ulU2fUL"
      },
      "execution_count": null,
      "outputs": []
    }
  ]
}